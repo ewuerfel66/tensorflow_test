{
 "cells": [
  {
   "cell_type": "code",
   "execution_count": 1,
   "id": "expected-supplement",
   "metadata": {},
   "outputs": [],
   "source": [
    "from keras.models import Sequential\n",
    "from keras.layers import Dense, Conv2D, Flatten\n",
    "from keras.datasets import mnist\n",
    "from keras.utils import to_categorical\n",
    "import matplotlib.pyplot as plt\n",
    "import numpy as np\n",
    "\n",
    "#Load the data and split it into train and test sets\n",
    "(X_train, y_train), (X_test, y_test) = mnist.load_data()\n",
    "\n",
    "#Reshape the data to fit the model\n",
    "X_train = X_train.reshape(60000, 28 ,28 ,1)\n",
    "X_test = X_test.reshape(10000, 28, 28, 1)\n",
    "\n",
    "#One-Hot Encoding\n",
    "y_train_one_hot = to_categorical(y_train)\n",
    "y_test_one_hot = to_categorical(y_test)\n",
    "\n",
    "# Create Model\n",
    "model = Sequential()\n",
    "model.add(Conv2D(64, kernel_size=3, activation='relu', input_shape=(28,28,1)))\n",
    "model.add(Conv2D(32, kernel_size=3, activation='relu'))\n",
    "model.add(Flatten())\n",
    "model.add(Dense(10, activation='softmax'))\n",
    "\n",
    "#Compile the model \n",
    "model.compile(optimizer='adam', loss='categorical_crossentropy', metrics=['accuracy'])"
   ]
  },
  {
   "cell_type": "code",
   "execution_count": 10,
   "id": "assured-encounter",
   "metadata": {},
   "outputs": [
    {
     "name": "stdout",
     "output_type": "stream",
     "text": [
      "Epoch 1/3\n",
      "1875/1875 [==============================] - 105s 56ms/step - loss: 0.0594 - accuracy: 0.9814 - val_loss: 0.0776 - val_accuracy: 0.9784\n",
      "Epoch 2/3\n",
      "1875/1875 [==============================] - 105s 56ms/step - loss: 0.0393 - accuracy: 0.9881 - val_loss: 0.0863 - val_accuracy: 0.9765\n",
      "Epoch 3/3\n",
      "1875/1875 [==============================] - 104s 55ms/step - loss: 0.0281 - accuracy: 0.9914 - val_loss: 0.1038 - val_accuracy: 0.9747\n"
     ]
    }
   ],
   "source": [
    "from datetime import datetime\n",
    "start = datetime.now()\n",
    "hist = model.fit(X_train, y_train_one_hot, validation_data=(X_test, y_test_one_hot), epochs=3)\n",
    "end = datetime.now()"
   ]
  },
  {
   "cell_type": "code",
   "execution_count": 17,
   "id": "described-nature",
   "metadata": {},
   "outputs": [
    {
     "name": "stdout",
     "output_type": "stream",
     "text": [
      "Train Time: 313s\n"
     ]
    }
   ],
   "source": [
    "print(f\"Train Time: {(end - start).seconds}s\")"
   ]
  },
  {
   "cell_type": "code",
   "execution_count": null,
   "id": "inside-gathering",
   "metadata": {},
   "outputs": [],
   "source": [
    "predictions = model.predict(X_test[:4])"
   ]
  }
 ],
 "metadata": {
  "kernelspec": {
   "display_name": "Python 3",
   "language": "python",
   "name": "python3"
  },
  "language_info": {
   "codemirror_mode": {
    "name": "ipython",
    "version": 3
   },
   "file_extension": ".py",
   "mimetype": "text/x-python",
   "name": "python",
   "nbconvert_exporter": "python",
   "pygments_lexer": "ipython3",
   "version": "3.8.5"
  }
 },
 "nbformat": 4,
 "nbformat_minor": 5
}
